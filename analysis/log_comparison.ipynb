{
 "cells": [
  {
   "cell_type": "code",
   "execution_count": 1,
   "metadata": {},
   "outputs": [],
   "source": [
    "import json\n",
    "import re"
   ]
  },
  {
   "cell_type": "code",
   "execution_count": 2,
   "metadata": {},
   "outputs": [],
   "source": [
    "def parse_log_line(line):\n",
    "    match = re.search(r'/(\\S+): negotiation completed. Configuration: (\\{.*?\\}).*?Rounds: (\\d+).*?Result: (\\S+)', line)\n",
    "    if match:\n",
    "        robot = match.group(1)\n",
    "        config = json.loads(match.group(2))\n",
    "        rounds = int(match.group(3))\n",
    "        result = match.group(4)\n",
    "        return ((robot, config[\"goal\"]), rounds, result)\n",
    "    return None\n",
    "\n",
    "def load_log_file(file_path):\n",
    "    log_entries = {}\n",
    "    with open(file_path, 'r', encoding='utf-8') as file:\n",
    "        for line in file:\n",
    "            parsed = parse_log_line(line)\n",
    "            if parsed:\n",
    "                key, rounds, result = parsed\n",
    "                log_entries[key] = (rounds, result, line.strip())\n",
    "    return log_entries\n",
    "\n",
    "def compare_logs(file1, file2):\n",
    "    log1 = load_log_file(file1)\n",
    "    log2 = load_log_file(file2)\n",
    "    \n",
    "    for key in log1.keys() & log2.keys():\n",
    "        rounds1, result1, line1 = log1[key]\n",
    "        rounds2, result2, line2 = log2[key]\n",
    "        \n",
    "        if rounds1-rounds2 < -1 or rounds1-rounds2 > 1 or result1 != result2:\n",
    "            print(f\"Difference found for configuration: {key}\")\n",
    "            print(f\"File 1: {line1}\")\n",
    "            print(f\"File 2: {line2}\\n\")\n",
    "    \n",
    "    missing_in_file2 = log1.keys() - log2.keys()\n",
    "    missing_in_file1 = log2.keys() - log1.keys()\n",
    "    \n",
    "    if missing_in_file2:\n",
    "        print(\"Configurations in File 1 alone:\")\n",
    "        for key in missing_in_file2:\n",
    "            print(log1[key][2])\n",
    "    \n",
    "    if missing_in_file1:\n",
    "        print(\"Configurations in File 2 alone:\")\n",
    "        for key in missing_in_file1:\n",
    "            print(log2[key][2])"
   ]
  },
  {
   "cell_type": "code",
   "execution_count": 3,
   "metadata": {},
   "outputs": [],
   "source": [
    "\n",
    "file1 = \"../results/simulation-airport-onrobot.log\"\n",
    "file2 = \"../results/simulation-airport-offrobot.log\"\n",
    "compare_logs(file1, file2)"
   ]
  }
 ],
 "metadata": {
  "kernelspec": {
   "display_name": "ml",
   "language": "python",
   "name": "python3"
  },
  "language_info": {
   "codemirror_mode": {
    "name": "ipython",
    "version": 3
   },
   "file_extension": ".py",
   "mimetype": "text/x-python",
   "name": "python",
   "nbconvert_exporter": "python",
   "pygments_lexer": "ipython3",
   "version": "3.9.20"
  }
 },
 "nbformat": 4,
 "nbformat_minor": 2
}
